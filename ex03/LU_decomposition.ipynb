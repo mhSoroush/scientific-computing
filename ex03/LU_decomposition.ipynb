{
 "cells": [
  {
   "cell_type": "code",
   "execution_count": 229,
   "metadata": {},
   "outputs": [
    {
     "name": "stdout",
     "output_type": "stream",
     "text": [
      "matrix A consist of L and U \n",
      " [[  1.    0.   -5. ]\n",
      " [ -6.    2.  -21. ]\n",
      " [  2.   -1.5 -19.5]] \n",
      "\n",
      "c solution: \n",
      " [[-23.]\n",
      " [-84.]\n",
      " [-78.]] \n",
      "\n",
      "x solution: \n",
      " [[-3.]\n",
      " [ 0.]\n",
      " [ 4.]] \n",
      "\n"
     ]
    }
   ],
   "source": [
    "#LU_decomposition\n",
    "import numpy as np\n",
    "\n",
    "A = np.array([[1.,0.,-5.], [-6.,2.,9.], [2.,-3.,2.]])\n",
    "b = np.array([[-23,54,2]])\n",
    "b = b.T\n",
    "rows, cols = A.shape\n",
    "\n",
    "for i in range(rows):\n",
    "    for j in range(rows):\n",
    "        if j > i:\n",
    "            l_elm = A[j,i]/A[i,i]\n",
    "            A[j,i:] = A[j,i:] - l_elm * A[i,i:]\n",
    "            A[j,i] = l_elm\n",
    "            \n",
    "print(\"matrix A consist of L and U \\n\", A, \"\\n\")\n",
    "\n",
    "#finding LC = b, finding C?\n",
    "c = np.zeros((rows,1))\n",
    "\n",
    "for i in range(rows):\n",
    "    L_sum_value = 0.\n",
    "    for j in range(rows):\n",
    "        #sum multiplication of all corresponding A elements with b elements \n",
    "        if j < i:\n",
    "            L_sum_value = L_sum_value + A[i,j]*c[j]\n",
    "            \n",
    "    if i == 0:\n",
    "        c[i] = b[i]\n",
    "    else:\n",
    "        c[i] = b[i] - L_sum_value\n",
    "\n",
    "#finding UX = c, finding x?\n",
    "x = np.zeros((rows,1))\n",
    "\n",
    "for i in range(rows-1, -1, -1):\n",
    "    U_sum_value = 0.\n",
    "    for j in range(rows-1, -1, -1):\n",
    "        if j > i:\n",
    "            U_sum_value = U_sum_value + A[i,j]*x[j]\n",
    "            \n",
    "    # first row for backward substitution                                   \n",
    "    if i == rows-1: \n",
    "        x[i] = c[i]/A[i,i]\n",
    "    else:\n",
    "         x[i] = (c[i] - U_sum_value)/A[i,i] \n",
    "            \n",
    "print(\"c solution: \\n\", c, \"\\n\")                                         \n",
    "print(\"x solution: \\n\", x, \"\\n\")                                         \n",
    "                                "
   ]
  }
 ],
 "metadata": {
  "kernelspec": {
   "display_name": "Python 3",
   "language": "python",
   "name": "python3"
  },
  "language_info": {
   "codemirror_mode": {
    "name": "ipython",
    "version": 3
   },
   "file_extension": ".py",
   "mimetype": "text/x-python",
   "name": "python",
   "nbconvert_exporter": "python",
   "pygments_lexer": "ipython3",
   "version": "3.7.4"
  }
 },
 "nbformat": 4,
 "nbformat_minor": 2
}
