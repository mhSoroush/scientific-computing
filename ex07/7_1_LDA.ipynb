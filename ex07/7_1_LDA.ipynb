{
 "cells": [
  {
   "cell_type": "code",
   "execution_count": 106,
   "metadata": {},
   "outputs": [
    {
     "name": "stdout",
     "output_type": "stream",
     "text": [
      "(50, 2)\n",
      "(50, 2)\n"
     ]
    }
   ],
   "source": [
    "import numpy as np\n",
    "import pandas as pd\n",
    "\n",
    "df_setosa = pd.read_csv('setosa.csv', header=None, sep=',')\n",
    "df_virginica = pd.read_csv('virginica.csv', header=None, sep=',')\n",
    "\n",
    "#Form data points as array\n",
    "X_setosa = df_setosa.loc[:, :].values\n",
    "X_virginica = df_virginica.loc[:, :].values\n",
    "\n",
    "print(X_setosa.shape)\n",
    "print(X_virginica.shape)"
   ]
  },
  {
   "cell_type": "code",
   "execution_count": 150,
   "metadata": {},
   "outputs": [],
   "source": [
    "def get_mean(X):\n",
    "    return np.mean(X[:,:], axis=0)  "
   ]
  },
  {
   "cell_type": "markdown",
   "metadata": {},
   "source": [
    "### Step 1: compute Mean Vectors"
   ]
  },
  {
   "cell_type": "code",
   "execution_count": 151,
   "metadata": {},
   "outputs": [
    {
     "name": "stdout",
     "output_type": "stream",
     "text": [
      "Mean Vector class 0: [5.006 3.428]\n",
      "\n",
      "Mean Vector class 1: [6.588 2.974]\n",
      "\n"
     ]
    }
   ],
   "source": [
    "\n",
    "mean_vectors = []\n",
    "mean_vectors.append(get_mean(X_setosa))\n",
    "mean_vectors.append(get_mean(X_virginica))\n",
    "\n",
    "for cl in range(0, 2):\n",
    "    print('Mean Vector class %s: %s\\n' %(cl, mean_vectors[cl]))\n"
   ]
  },
  {
   "cell_type": "markdown",
   "metadata": {},
   "source": [
    "### Step 2: compute scatter matrices"
   ]
  },
  {
   "cell_type": "code",
   "execution_count": 152,
   "metadata": {},
   "outputs": [],
   "source": [
    "def get_withing_scatter_matrix(X, mean_vector):\n",
    "    class_sc_mat = np.zeros((2,2))                  # Scatter matrix for every class\n",
    "    for index in range(len(X)):                    \n",
    "        row, mv = X[index,:].reshape(2,1), mean_vector.reshape(2,1) # Make column vectors\n",
    "        class_sc_mat = class_sc_mat + ((row - mv).dot((row-mv).T))\n",
    "    return class_sc_mat;"
   ]
  },
  {
   "cell_type": "code",
   "execution_count": 153,
   "metadata": {},
   "outputs": [
    {
     "name": "stdout",
     "output_type": "stream",
     "text": [
      "within-class Scatter Matrix:\n",
      " [[25.901  9.456]\n",
      " [ 9.456 12.137]]\n"
     ]
    }
   ],
   "source": [
    "S_W = np.zeros((2,2))\n",
    "S_W = S_W + get_withing_scatter_matrix(X_setosa, mean_vectors[0]) # Scatter matrix for class setosa\n",
    "S_W = S_W + get_withing_scatter_matrix(X_virginica, mean_vectors[1]) # Scatter matrix for virginica class\n",
    "\n",
    "print(\"within-class Scatter Matrix:\\n\", S_W)                         # Sum class scatter matrices"
   ]
  },
  {
   "cell_type": "code",
   "execution_count": 176,
   "metadata": {},
   "outputs": [],
   "source": [
    "def get_between_scatter_matrix():\n",
    "    S_B = np.zeros((2,2))                             # Between Class scatter\n",
    "    setosa_virginica_data = np.concatenate((X_setosa, X_virginica), axis =0)  # Concatenate along y axis\n",
    "    overall_mean = np.mean(setosa_virginica_data, axis = 0)\n",
    "    \n",
    "    for i, mean_vec in enumerate(mean_vectors):\n",
    "        n = 0                                         # Number of sample per class\n",
    "        if i == 0:\n",
    "            n = len(X_setosa)\n",
    "        elif i == 1:\n",
    "            n = len(X_virginica)\n",
    "            \n",
    "        mean_vec = mean_vec.reshape(2,1)              # Make column vector\n",
    "        overall_mean = overall_mean.reshape(2,1)      # Make column vector\n",
    "        \n",
    "        S_B = S_B + (n * (mean_vec - overall_mean).dot((mean_vec - overall_mean).T))\n",
    "        \n",
    "    return S_B;   "
   ]
  },
  {
   "cell_type": "code",
   "execution_count": 179,
   "metadata": {},
   "outputs": [
    {
     "name": "stdout",
     "output_type": "stream",
     "text": [
      "between-class Scatter Matrix:\n",
      " [[ 62.5681 -17.9557]\n",
      " [-17.9557   5.1529]]\n"
     ]
    }
   ],
   "source": [
    "S_B = np.zeros((2,2))       # Between Class scatter # It is dupplicate, bcs to be accessible every where\n",
    "S_B = get_between_scatter_matrix()\n",
    "\n",
    "print(\"between-class Scatter Matrix:\\n\", S_B)  "
   ]
  },
  {
   "cell_type": "markdown",
   "metadata": {},
   "source": [
    "### Step 3: Find eingenvalue and eigencector"
   ]
  },
  {
   "cell_type": "code",
   "execution_count": 183,
   "metadata": {},
   "outputs": [
    {
     "name": "stdout",
     "output_type": "stream",
     "text": [
      "[[ 4.13069946 -1.18542197]\n",
      " [-4.6976678   1.3481297 ]]\n"
     ]
    }
   ],
   "source": [
    "A = np.linalg.inv(S_W).dot(S_B)\n",
    "print(A)"
   ]
  },
  {
   "cell_type": "code",
   "execution_count": 186,
   "metadata": {},
   "outputs": [
    {
     "name": "stdout",
     "output_type": "stream",
     "text": [
      "\n",
      "Eigenvector 1: \n",
      "[[ 0.66033521]\n",
      " [-0.75097098]]\n",
      "Eigenvalue 1: 5.48e+00\n",
      "\n",
      "Eigenvector 2: \n",
      "[[0.2758444]\n",
      " [0.9612023]]\n",
      "Eigenvalue 2: 0.00e+00\n"
     ]
    }
   ],
   "source": [
    "eig_vals, eig_vecs = np.linalg.eig(A)\n",
    "\n",
    "for i in range(len(eig_vals)):\n",
    "    eigvec_sc = eig_vecs[:,i].reshape(2,1)   \n",
    "    print('\\nEigenvector {}: \\n{}'.format(i+1, eigvec_sc.real))\n",
    "    print('Eigenvalue {:}: {:.2e}'.format(i+1, eig_vals[i].real))"
   ]
  },
  {
   "cell_type": "markdown",
   "metadata": {},
   "source": [
    "### Step 4: Selecting linear discriminants for the new feature subspace"
   ]
  },
  {
   "cell_type": "code",
   "execution_count": 187,
   "metadata": {},
   "outputs": [
    {
     "name": "stdout",
     "output_type": "stream",
     "text": [
      "Eigenvalues in decreasing order:\n",
      "\n",
      "5.478829157953044\n",
      "0.0\n"
     ]
    }
   ],
   "source": [
    "# Make a list of (eigenvalue, eigenvector) tuples\n",
    "eig_pairs = [(np.abs(eig_vals[i]), eig_vecs[:,i]) for i in range(len(eig_vals))]\n",
    "\n",
    "# Sort the (eigenvalue, eigenvector) tuples from high to low\n",
    "eig_pairs = sorted(eig_pairs, key=lambda k: k[0], reverse=True)\n",
    "\n",
    "# Visually confirm that the list is correctly sorted by decreasing eigenvalues\n",
    "\n",
    "print('Eigenvalues in decreasing order:\\n')\n",
    "for i in eig_pairs:\n",
    "    print(i[0])"
   ]
  },
  {
   "cell_type": "code",
   "execution_count": 199,
   "metadata": {},
   "outputs": [
    {
     "name": "stdout",
     "output_type": "stream",
     "text": [
      "Variance explained:\n",
      "\n",
      "eigenvalue 1: 100.00%\n",
      "eigenvalue 2: 0.00%\n"
     ]
    }
   ],
   "source": [
    "print('Variance explained:\\n')\n",
    "eigv_sum = sum(eig_vals)\n",
    "for i,j in enumerate(eig_pairs):\n",
    "    print('eigenvalue {0:}: {1:.2%}'.format(i+1, (j[0]/eigv_sum).real))"
   ]
  },
  {
   "cell_type": "code",
   "execution_count": 201,
   "metadata": {},
   "outputs": [
    {
     "name": "stdout",
     "output_type": "stream",
     "text": [
      "Matrix W:\n",
      " [[ 0.66033521]\n",
      " [-0.75097098]]\n"
     ]
    }
   ],
   "source": [
    "# 1 vector can separate the entire two classes, no need for vector 2\n",
    "W = eig_pairs[0][1].reshape(2,1) \n",
    "print('Matrix W:\\n', W.real)\n"
   ]
  },
  {
   "cell_type": "markdown",
   "metadata": {},
   "source": [
    "### Step 5: Transforming the samples onto the new subspace"
   ]
  },
  {
   "cell_type": "code",
   "execution_count": 213,
   "metadata": {},
   "outputs": [],
   "source": [
    "setosa_lda = X_setosa.dot(W)       # Setosa points on the new subspace\n",
    "virginica_lda = X_virginica.dot(W) # Virginica points on the new subspace\n"
   ]
  },
  {
   "cell_type": "code",
   "execution_count": 226,
   "metadata": {},
   "outputs": [
    {
     "data": {
      "text/plain": [
       "[<matplotlib.lines.Line2D at 0x11db40048>]"
      ]
     },
     "execution_count": 226,
     "metadata": {},
     "output_type": "execute_result"
    },
    {
     "data": {
      "image/png": "[encoded data removed]",
      "text/plain": [
       "<Figure size 432x288 with 1 Axes>"
      ]
     },
     "metadata": {
      "needs_background": "light"
     },
     "output_type": "display_data"
    }
   ],
   "source": [
    "# Orignial plotting\n",
    "from matplotlib import pyplot as plt\n",
    "plt.plot(X_setosa[:, 0], X_setosa[:, 1], 'bo')\n",
    "\n",
    "plt.plot(X_virginica[:, 0], X_virginica[:, 1] , 'r+')"
   ]
  },
  {
   "cell_type": "code",
   "execution_count": 227,
   "metadata": {},
   "outputs": [
    {
     "data": {
      "text/plain": [
       "[<matplotlib.lines.Line2D at 0x11b13c898>]"
      ]
     },
     "execution_count": 227,
     "metadata": {},
     "output_type": "execute_result"
    },
    {
     "data": {
      "image/png": "[encoded data removed]",
      "text/plain": [
       "<Figure size 432x288 with 1 Axes>"
      ]
     },
     "metadata": {
      "needs_background": "light"
     },
     "output_type": "display_data"
    }
   ],
   "source": [
    "# new LDA in 1-d\n",
    "from matplotlib import pyplot as plt\n",
    "\n",
    "ax = plt.subplot(111)\n",
    "\n",
    "plt.plot(setosa_lda, 'bo')\n",
    "\n",
    "plt.plot(virginica_lda, 'r+')\n"
   ]
  },
  {
   "cell_type": "code",
   "execution_count": 229,
   "metadata": {},
   "outputs": [
    {
     "data": {
      "text/plain": [
       "<matplotlib.collections.PathCollection at 0x11c539ba8>"
      ]
     },
     "execution_count": 229,
     "metadata": {},
     "output_type": "execute_result"
    },
    {
     "data": {
      "image/png": "[encoded data removed]",
      "text/plain": [
       "<Figure size 432x288 with 1 Axes>"
      ]
     },
     "metadata": {
      "needs_background": "light"
     },
     "output_type": "display_data"
    }
   ],
   "source": [
    "# new LDA in 1-d\n",
    "from matplotlib import pyplot as plt\n",
    "plt.scatter(x=setosa_lda[:,0],\n",
    "            y=setosa_lda[:,0],\n",
    "            marker= 'o',\n",
    "            color='red',\n",
    "            alpha=0.5,\n",
    "            label= 'Setosa')\n",
    "\n",
    "plt.scatter(x=virginica_lda[:,0],\n",
    "            y=virginica_lda[:,0],\n",
    "            marker= 's',\n",
    "            color='green',\n",
    "            alpha=0.5,\n",
    "            label= 'Setosa')"
   ]
  },
  {
   "cell_type": "code",
   "execution_count": null,
   "metadata": {},
   "outputs": [],
   "source": []
  }
 ],
 "metadata": {
  "kernelspec": {
   "display_name": "Python 3",
   "language": "python",
   "name": "python3"
  },
  "language_info": {
   "codemirror_mode": {
    "name": "ipython",
    "version": 3
   },
   "file_extension": ".py",
   "mimetype": "text/x-python",
   "name": "python",
   "nbconvert_exporter": "python",
   "pygments_lexer": "ipython3",
   "version": "3.7.3"
  }
 },
 "nbformat": 4,
 "nbformat_minor": 2
}
