{
 "cells": [
  {
   "cell_type": "code",
   "execution_count": 7,
   "metadata": {},
   "outputs": [
    {
     "name": "stdout",
     "output_type": "stream",
     "text": [
      "A: \n",
      " [[ 1.  0. -5.]\n",
      " [-6.  2.  9.]\n",
      " [ 2. -3.  2.]]\n",
      "b: \n",
      " [[-23]\n",
      " [ 54]\n",
      " [  2]] \n",
      "\n",
      "Augmented Matrix: \n",
      " [[ 1.      0.      0.     -3.     -0.7949 -0.3846 -0.2564]\n",
      " [-0.      1.      0.      0.     -0.7692 -0.3077 -0.5385]\n",
      " [-0.     -0.      1.      4.     -0.359  -0.0769 -0.0513]]\n"
     ]
    }
   ],
   "source": [
    "import numpy as np\n",
    "\n",
    "A = np.array([[1.,0.,-5.], [-6.,2.,9.], [2.,-3.,2.]])\n",
    "#A = np.array([[2,3,2], [-1,-1,-3], [3,5,5]])\n",
    "\n",
    "b = np.array([[-23,54,2]])\n",
    "#b = np.array([[2,-5,3]])\n",
    "b =b.T\n",
    "\n",
    "print(\"A: \\n\", A)\n",
    "print(\"b: \\n\", b, \"\\n\")\n",
    "\n",
    "A_aug = np.concatenate((A, b, np.identity(3)), axis=1)\n",
    "\n",
    "rows, cols = A_aug.shape\n",
    "\n",
    "tmp = np.zeros(cols)\n",
    "\n",
    "for i in range(rows):\n",
    "\n",
    "    #### Pivot op.\n",
    "    pivot_row = np.argmax(abs(A_aug[i:,i]))\n",
    "    pivot_value = A_aug[pivot_row,i]\n",
    "    pivot_row = pivot_row + i\n",
    "    \n",
    "    if i!= pivot_row:\n",
    "        tmp[:] = A_aug[i,:]\n",
    "        A_aug[i,:] = A_aug[pivot_row,:]\n",
    "        A_aug[pivot_row,:] = tmp\n",
    "    #####\n",
    "    \n",
    "    A_aug[i,:] = A_aug[i,:]/A_aug[i,i]\n",
    "    for k in range(rows):\n",
    "        if(k!=i):\n",
    "            A_aug[k,:] = A_aug[k,:] - A_aug[k,i]*A_aug[i,:]\n",
    "        \n",
    "    x = np.array([A_aug[:, rows]])\n",
    "    x= x.T\n",
    "    \n",
    "np.set_printoptions(precision=4)    \n",
    "print(\"Augmented Matrix: \\n\", A_aug)"
   ]
  },
  {
   "cell_type": "code",
   "execution_count": null,
   "metadata": {},
   "outputs": [],
   "source": []
  }
 ],
 "metadata": {
  "kernelspec": {
   "display_name": "Python 3",
   "language": "python",
   "name": "python3"
  },
  "language_info": {
   "codemirror_mode": {
    "name": "ipython",
    "version": 3
   },
   "file_extension": ".py",
   "mimetype": "text/x-python",
   "name": "python",
   "nbconvert_exporter": "python",
   "pygments_lexer": "ipython3",
   "version": "3.7.4"
  }
 },
 "nbformat": 4,
 "nbformat_minor": 2
}
