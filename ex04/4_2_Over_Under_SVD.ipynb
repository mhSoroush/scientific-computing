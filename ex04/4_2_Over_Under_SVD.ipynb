{
 "cells": [
  {
   "cell_type": "code",
   "execution_count": null,
   "metadata": {},
   "outputs": [],
   "source": [
    "#If the matrix has less column than row (overdetermined), then the number of eingenvalues and eigenvectors\n",
    "# are equal to number of columns.\n",
    "#underdeterminded system number of eigenvalues are equal to number of rows. \n",
    "\n",
    "#In both cases we set max_R_C => (maximum number of rows or columns), each one of them are less, then\n",
    "#will be assigned to max_R_C\n"
   ]
  },
  {
   "cell_type": "code",
   "execution_count": 19,
   "metadata": {},
   "outputs": [
    {
     "name": "stdout",
     "output_type": "stream",
     "text": [
      "A: \n",
      " [[ 5  0]\n",
      " [-2  2]\n",
      " [ 3 -1]]\n",
      "A = U * Sigma * VT: \n",
      " [[ 5.  0.]\n",
      " [-2.  2.]\n",
      " [ 3. -1.]]\n",
      "-----------------\n",
      "Sigma_pinv = 1/sigma\n",
      "x_svd = V * 1/sigma * UT * b : \n",
      "\n",
      "x_svd: \n",
      " [[0.5319]\n",
      " [1.7447]]\n"
     ]
    }
   ],
   "source": [
    "import numpy as np\n",
    "import numpy.linalg as la\n",
    "import scipy.linalg as spla\n",
    "import math\n",
    "\n",
    "# tall and skinny w/nullspace\n",
    "A = np.array([[5,0], [-2,2], [3,-1]])\n",
    "b = np.array([[3,2,-1]])\n",
    "b = b.T \n",
    "\n",
    "print(\"A: \\n\", A)\n",
    "\n",
    "max_R_C = 0\n",
    "rows, cols = A.shape\n",
    "if rows <= cols:\n",
    "    max_R_C = rows;\n",
    "else:\n",
    "    max_R_C = cols;\n",
    "    \n",
    "U, sigma, VT = la.svd(A)\n",
    "\n",
    "#Create Sigma if we multiply all svd decomposition, we must get back A\n",
    "Sigma = np.zeros(A.shape)\n",
    "Sigma[:max_R_C,:max_R_C] = np.diag(sigma)\n",
    "print(\"A = U * Sigma * VT: \\n\", U.dot(Sigma.dot(VT)).round())\n",
    "\n",
    "#Shape Sigma_pinv has the transpose shape of A, that we can multiply with Ut\n",
    "Sigma_pinv = np.zeros(A.shape).reshape(A.shape[1],A.shape[0])\n",
    "#Sigma_pinv is the pseudoinverse of sigma\n",
    "Sigma_pinv[:max_R_C,:max_R_C] = np.diag(1/sigma[:max_R_C])\n",
    "\n",
    "Sigma_pinv.round(max_R_C)\n",
    "\n",
    "x_svd = VT.T.dot(Sigma_pinv).dot(U.T).dot(b)\n",
    "\n",
    "print(\"-----------------\")\n",
    "print(\"Sigma_pinv = 1/sigma\")\n",
    "print(\"x_svd = V * 1/sigma * UT * b : \\n\")\n",
    "print(\"x_svd: \\n\", x_svd)"
   ]
  },
  {
   "cell_type": "code",
   "execution_count": null,
   "metadata": {},
   "outputs": [],
   "source": []
  }
 ],
 "metadata": {
  "kernelspec": {
   "display_name": "Python 3",
   "language": "python",
   "name": "python3"
  },
  "language_info": {
   "codemirror_mode": {
    "name": "ipython",
    "version": 3
   },
   "file_extension": ".py",
   "mimetype": "text/x-python",
   "name": "python",
   "nbconvert_exporter": "python",
   "pygments_lexer": "ipython3",
   "version": "3.7.4"
  }
 },
 "nbformat": 4,
 "nbformat_minor": 2
}
