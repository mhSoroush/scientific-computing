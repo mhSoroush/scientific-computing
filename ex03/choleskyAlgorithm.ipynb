{
 "cells": [
  {
   "cell_type": "code",
   "execution_count": 1,
   "metadata": {},
   "outputs": [
    {
     "name": "stdout",
     "output_type": "stream",
     "text": [
      "Matric A, initial values \n",
      " [[ 16  -4 -12]\n",
      " [ -4   5   5]\n",
      " [-12   5  19]] \n",
      "\n",
      "A = L Lt\n",
      "L \n",
      " [[ 4.  0.  0.]\n",
      " [-1.  2.  0.]\n",
      " [-3.  1.  3.]] \n",
      "\n",
      "Lt \n",
      " [[ 4. -1. -3.]\n",
      " [ 0.  2.  1.]\n",
      " [ 0.  0.  3.]] \n",
      "\n",
      "A = L * Lt: \n",
      " [[ 16.  -4. -12.]\n",
      " [ -4.   5.   5.]\n",
      " [-12.   5.  19.]]\n"
     ]
    }
   ],
   "source": [
    "#cholesky Algorithm\n",
    "\n",
    "import numpy as np\n",
    "import math\n",
    "\n",
    "A = np.array([[16,-4,-12], [-4,5,5], [-12,5,19]])\n",
    "rows, cols = A.shape\n",
    "print(\"Matric A, initial values \\n\", A, \"\\n\")\n",
    "\n",
    "L = np.zeros((rows,cols))\n",
    "Lt = np.zeros((rows,cols))\n",
    "\n",
    "for i in range(rows):  \n",
    "    for j in range(i + 1):  \n",
    "        sum = 0;\n",
    "        \n",
    "        # sum for diagnols \n",
    "        if (j == i):  \n",
    "            for k in range(j): \n",
    "                sum += pow(L[j,k], 2); \n",
    "            L[j,j] = math.sqrt(A[j,j] - sum)\n",
    "        else:\n",
    "            # sum of off diagonal     \n",
    "            # using L(j, j) \n",
    "            for k in range(j): \n",
    "                sum += (L[i,k] * L[j,k])\n",
    "            if (L[j,j] > 0): \n",
    "                L[i,j] = (A[i,j] - sum) / L[j,j]\n",
    "\n",
    "# Making Transpose of L\n",
    "Lt = L.T\n",
    "\n",
    "print(\"A = L Lt\")\n",
    "print(\"L \\n\", L, \"\\n\")\n",
    "print(\"Lt \\n\", Lt, \"\\n\")\n",
    "\n",
    "print(\"A = L * Lt: \\n\", np.dot(L,Lt))"
   ]
  },
  {
   "cell_type": "code",
   "execution_count": null,
   "metadata": {},
   "outputs": [],
   "source": []
  }
 ],
 "metadata": {
  "kernelspec": {
   "display_name": "Python 3",
   "language": "python",
   "name": "python3"
  },
  "language_info": {
   "codemirror_mode": {
    "name": "ipython",
    "version": 3
   },
   "file_extension": ".py",
   "mimetype": "text/x-python",
   "name": "python",
   "nbconvert_exporter": "python",
   "pygments_lexer": "ipython3",
   "version": "3.7.4"
  }
 },
 "nbformat": 4,
 "nbformat_minor": 2
}
