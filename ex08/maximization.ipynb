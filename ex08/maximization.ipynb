{
 "cells": [
  {
   "cell_type": "code",
   "execution_count": 2,
   "metadata": {},
   "outputs": [
    {
     "name": "stdout",
     "output_type": "stream",
     "text": [
      "Maximization Problem:\n",
      "MAXIMIZE\n",
      "4*x + 6*y + 0\n",
      "SUBJECT TO\n",
      "_C1: - x + y <= 11\n",
      "\n",
      "_C2: x + y <= 27\n",
      "\n",
      "_C3: 2 x + 5 y <= 90\n",
      "\n",
      "VARIABLES\n",
      "x Continuous\n",
      "y Continuous\n",
      "\n",
      "Optimal\n",
      "x: 15.0 y: 12.0 optimal value: 132.0\n"
     ]
    }
   ],
   "source": [
    "\n",
    "# import the library pulp as p \n",
    "import pulp as p \n",
    "  \n",
    "# Create a LP Minimization problem \n",
    "Lp_prob = p.LpProblem('Maximization Problem', p.LpMaximize)  \n",
    "  \n",
    "# Create problem Variables  \n",
    "x = p.LpVariable(\"x\", lowBound = 0)   # Create a variable x >= 0 \n",
    "y = p.LpVariable(\"y\", lowBound = 0)   # Create a variable y >= 0 \n",
    "  \n",
    "# Objective Function \n",
    "Lp_prob += 4 * x + 6 * y    \n",
    "  \n",
    "# Constraints: \n",
    "Lp_prob += -1 * x + 1 * y <= 11\n",
    "Lp_prob += x + y <= 27\n",
    "Lp_prob += 2 * x + 5 * y <= 90\n",
    "  \n",
    "# Display the problem \n",
    "print(Lp_prob) \n",
    "  \n",
    "status = Lp_prob.solve()   # Solver \n",
    "print(p.LpStatus[status])   # The solution status \n",
    "  \n",
    "# Printing the final solution \n",
    "print('x:', p.value(x), 'y:', p.value(y), 'optimal value:', p.value(Lp_prob.objective))"
   ]
  },
  {
   "cell_type": "code",
   "execution_count": null,
   "metadata": {},
   "outputs": [],
   "source": []
  }
 ],
 "metadata": {
  "kernelspec": {
   "display_name": "Python 3",
   "language": "python",
   "name": "python3"
  },
  "language_info": {
   "codemirror_mode": {
    "name": "ipython",
    "version": 3
   },
   "file_extension": ".py",
   "mimetype": "text/x-python",
   "name": "python",
   "nbconvert_exporter": "python",
   "pygments_lexer": "ipython3",
   "version": "3.7.4"
  }
 },
 "nbformat": 4,
 "nbformat_minor": 2
}
