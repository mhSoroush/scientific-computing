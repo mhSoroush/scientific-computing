{
 "cells": [
  {
   "cell_type": "markdown",
   "metadata": {},
   "source": [
    "### Structure of SVD by Sebastian"
   ]
  },
  {
   "cell_type": "code",
   "execution_count": null,
   "metadata": {},
   "outputs": [],
   "source": [
    "import numpy as np \n",
    "from numpy.linalg import* \n",
    "\n",
    "A = np.array([[1,0],[2,1],[0,1]])\n",
    "\n",
    "print(A)\n",
    "U,S_, Vt = np.linalg.svd(A, full_matrices= True)\n",
    "\n",
    "print(\"U:\\n\", U, \"\\n\")\n",
    "S =np.zeros([3,2])\n",
    "S[0,0] = S_[0]\n",
    "S[1,1] = S_[1]\n",
    "print(\"S:\\n\", S, \"\\n\")\n",
    "print(\"V:\\n\", Vt.T, \"\\n\")\n",
    "\n",
    "#If we set the last column of U to zero, nothing would change, \n",
    "#because the last row of S is zero\n",
    "U[:,-1] = 0\n",
    "print(\"U reduced:\\n\", U)\n",
    "    \n",
    "matrix = U.dot(S).dot(Vt)\n",
    "print(\"CHECK USVt:\\n\", matrix.round()"
   ]
  },
  {
   "cell_type": "code",
   "execution_count": 40,
   "metadata": {},
   "outputs": [],
   "source": [
    "#max singular value/ min of singualar value = kondition number\n",
    "#what is residual? \n",
    "#the error, Ax -b= residual\n",
    "\n",
    "#small kondition => cause better dedomposition of svd\n"
   ]
  },
  {
   "cell_type": "code",
   "execution_count": 4,
   "metadata": {},
   "outputs": [
    {
     "name": "stdout",
     "output_type": "stream",
     "text": [
      "[[ 5  5]\n",
      " [-1  7]]\n",
      "U:\n",
      " [[ 0.70710678  0.70710678]\n",
      " [ 0.70710678 -0.70710678]] \n",
      "\n",
      "S:\n",
      " [[8.94427191 0.        ]\n",
      " [0.         4.47213595]] \n",
      "\n",
      "V:\n",
      " [[ 0.31622777  0.9486833 ]\n",
      " [ 0.9486833  -0.31622777]] \n",
      "\n",
      "U reduced:\n",
      " [[0.70710678 0.        ]\n",
      " [0.70710678 0.        ]]\n",
      "CHECK USVt:\n",
      " [[2. 6.]\n",
      " [2. 6.]]\n"
     ]
    }
   ],
   "source": [
    "import numpy as np \n",
    "from numpy.linalg import* \n",
    "\n",
    "A = np.array([[5,5],[-1,7]])\n",
    "\n",
    "print(A)\n",
    "U,S_, Vt = np.linalg.svd(A, full_matrices= True)\n",
    "\n",
    "print(\"U:\\n\", U, \"\\n\")\n",
    "S =np.zeros([2,2])\n",
    "S[0,0] = S_[0]\n",
    "S[1,1] = S_[1]\n",
    "print(\"S:\\n\", S, \"\\n\")\n",
    "print(\"V:\\n\", Vt.T, \"\\n\")\n",
    " \n",
    "print(\"U reduced:\\n\", U)\n",
    "    \n",
    "matrix = U.dot(S).dot(Vt)\n",
    "print(\"CHECK USVt:\\n\", matrix.round())"
   ]
  }
 ],
 "metadata": {
  "kernelspec": {
   "display_name": "Python 3",
   "language": "python",
   "name": "python3"
  },
  "language_info": {
   "codemirror_mode": {
    "name": "ipython",
    "version": 3
   },
   "file_extension": ".py",
   "mimetype": "text/x-python",
   "name": "python",
   "nbconvert_exporter": "python",
   "pygments_lexer": "ipython3",
   "version": "3.7.4"
  }
 },
 "nbformat": 4,
 "nbformat_minor": 2
}
