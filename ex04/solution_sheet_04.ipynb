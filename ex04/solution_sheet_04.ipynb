{
 "cells": [
  {
   "cell_type": "markdown",
   "metadata": {},
   "source": [
    "# 04: Solution\n",
    "\n",
    "### Notebook accompanying  the [Scientific Computing Lecture HS 2019](https://dmi.unibas.ch/de/studium/computer-science-informatik/lehrangebot-hs19/main-lecture-scientific-computing/)\n",
    "#### Tutorial by [Sebastian Mathias Keller](http://bmda.cs.unibas.ch/)\n",
    "#### University of Basel [Institute for Mathematics and Computer Science](http://informatik.unibas.ch/)"
   ]
  },
  {
   "cell_type": "markdown",
   "metadata": {},
   "source": [
    "## Under-/Overdetermined Linear Systems"
   ]
  },
  {
   "cell_type": "code",
   "execution_count": null,
   "metadata": {
    "collapsed": true
   },
   "outputs": [],
   "source": [
    "# Overdetermined Linear Systems\n",
    "\n",
    "import numpy as np\n",
    "from numpy.linalg import *\n",
    "\n",
    "A2 = np.array([[5,0, -2,2, 3,-1]])\n",
    "b2 = np.array([[3,2,-1]])\n",
    "A2 = A2.reshape((3, 2))\n",
    "b2 = b2.reshape((3,1))\n",
    "\n",
    "print(\"\\nA2:\\n\",A2)\n",
    "print(\"\\nb2:\\n\",b2)\n",
    "\n",
    "# singular value decomposition of A2\n",
    "U, S, Vt = np.linalg.svd(A2, full_matrices=True)\n",
    "print(\"\\nshape of U, S and Vt:\\n\",U.shape, S.shape, Vt.shape)\n",
    "print(\"\\nS:\\n\",S)\n",
    "\n",
    "# x2 is a function of U, S, V and b2. The pseudoinverse is computed by pinv(.)\n",
    "A_pseudo = pinv(A2)\n",
    "x2_pinv = np.dot(A_pseudo,b2)\n",
    "print(\"\\nPseudosolution x2:\\n\",x2_pinv,\"\\n\")\n",
    "print(\"\\nl2-norm(x2_pinv):\\n\",norm(x2_pinv))\n",
    "print( \"\\nmake Check: A2*x2:\\n\",np.dot(A2,x2_pinv) )\n",
    "\n",
    "S_matrix = np.zeros((3,2))\n",
    "S_matrix[0,0] = 1/S[0]\n",
    "S_matrix[1,1] = 1/S[1]\n",
    "S_plus = S_matrix.T\n",
    "print(\"\\nS_plus:\\n\", S_plus)\n",
    "\n",
    "print(\"\\nshape of Vt, S_plus and U:\\n\",Vt.shape, S_plus.shape, U.shape, b2.shape)\n",
    "\n",
    "# pseudosolution based on constructed S_plus\n",
    "x2 = Vt.T.dot(S_plus).dot(U.T).dot(b2)\n",
    "\n",
    "print(\"\\n---- This is the Least Squares Solution ----\\n\")\n",
    "print(\"x2 =\\n\")\n",
    "print(x2)\n",
    "print(\"\\nl2-norm(x2):\\n\",norm(x2))\n",
    "\n",
    "print(\"\\n---- Check ----\\n\")\n",
    "print(\"A2 * x2 =\\n\")\n",
    "print( np.dot(A2,x2) )\n"
   ]
  },
  {
   "cell_type": "code",
   "execution_count": null,
   "metadata": {
    "collapsed": true
   },
   "outputs": [],
   "source": [
    "# Underdetermined Linear Systems\n",
    "\n",
    "import numpy as np\n",
    "from numpy.linalg import *\n",
    "\n",
    "A1 = np.array([[5,0,-1, -2,2,3]])\n",
    "b1 = np.array([[3,2]])\n",
    "A1 = A1.reshape((2, 3))\n",
    "b1 = b1.reshape((2,1))\n",
    "\n",
    "print(\"\\nA1:\\n\",A1)\n",
    "print(\"\\nb1:\\n\",b1)\n",
    "\n",
    "# singular value decomposition of A1\n",
    "U, S, Vt = np.linalg.svd(A1, full_matrices=True)\n",
    "print(\"\\nshape of U, S and Vt:\\n\",U.shape, S.shape, Vt.shape)\n",
    "print(\"\\nS:\\n\",S)\n",
    "\n",
    "# x1 is a function of U1, S1, V1 and b1. The pseudoinverse is computed by pinv(.)\n",
    "A_pseudo = pinv(A1)\n",
    "x1_pinv = np.dot(A_pseudo,b1)\n",
    "print(\"\\nPseudosolution x1:\\n\",x1_pinv,\"\\n\")\n",
    "print(\"\\nl2-norm(x1_pinv):\\n\",norm(x1_pinv))\n",
    "print( \"\\nmake Check: A1*x1:\\n\",np.dot(A1,x1_pinv) )\n",
    "\n",
    "S_matrix = np.zeros((2,3))\n",
    "S_matrix[0,0] = 1/S[0]\n",
    "S_matrix[1,1] = 1/S[1]\n",
    "S_plus = S_matrix.T\n",
    "print(\"\\nS_plus:\\n\", S_plus)\n",
    "\n",
    "print(\"\\nshape of Vt, S_plus and U:\\n\",Vt.shape, S_plus.shape, U.shape, b1.shape)\n",
    "\n",
    "# pseudosolution based on constructed S_plus\n",
    "x1 = Vt.T.dot(S_plus).dot(U.T).dot(b1)\n",
    "\n",
    "print(\"\\n---- Solution ----\\n\")\n",
    "print(\"x1 =\\n\")\n",
    "print(x1)\n",
    "print(\"\\nl2-norm(x1):\\n\",norm(x1))\n",
    "\n",
    "print(\"\\n---- Check ----\\n\")\n",
    "print(\"A1 * x1 =\\n\")\n",
    "print( np.dot(A1,x1) )"
   ]
  }
 ],
 "metadata": {
  "kernelspec": {
   "display_name": "Python 3",
   "language": "python",
   "name": "python3"
  },
  "language_info": {
   "codemirror_mode": {
    "name": "ipython",
    "version": 3
   },
   "file_extension": ".py",
   "mimetype": "text/x-python",
   "name": "python",
   "nbconvert_exporter": "python",
   "pygments_lexer": "ipython3",
   "version": "3.6.9"
  }
 },
 "nbformat": 4,
 "nbformat_minor": 1
}
