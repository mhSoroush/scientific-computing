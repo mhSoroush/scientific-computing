{
 "cells": [
  {
   "cell_type": "code",
   "execution_count": 12,
   "metadata": {},
   "outputs": [
    {
     "name": "stdout",
     "output_type": "stream",
     "text": [
      "Not in diagonal form \n",
      " [[0 0 1 1]\n",
      " [1 0 0 5]\n",
      " [0 1 0 2]] \n",
      "\n",
      "Diagonal form \n",
      " [[1 0 0 5]\n",
      " [0 1 0 2]\n",
      " [0 0 1 1]]\n"
     ]
    }
   ],
   "source": [
    "## Written by Mohammad Hadi\n",
    "\n",
    "import numpy as np\n",
    "A = np.array([[7,3,-8,33, 5,8,-5,36, 3,0,-20,-5]])\n",
    "A = A.reshape((3,4))\n",
    "\n",
    "rows, cols = A.shape\n",
    "for c in range(cols-1):    \n",
    "    for i in range(rows):\n",
    "        t = 0 # initial value\n",
    "        is_diagonal = False;\n",
    "        is_off_diagonal = False;\n",
    "        temp_not_pivot = 0.\n",
    "        for j in range(cols):\n",
    "\n",
    "            if i == 0 and c == j: # diagonal element\n",
    "                t = A[i,j]\n",
    "                is_diagonal = True;\n",
    "\n",
    "            if is_diagonal == True: # make pivot \n",
    "                A[i,j] = A[i,j]/t        \n",
    "                \n",
    "            if i > 0 and c == j: # select non pivot index\n",
    "                temp_not_pivot = -A[i,j]\n",
    "                is_off_diagonal = True\n",
    "            \n",
    "            if is_off_diagonal == True:\n",
    "                A[i,j] = ((temp_not_pivot*(A[0,j]))+A[i,j])\n",
    "        \n",
    "        is_diagonal = False\n",
    "        is_off_diagonal = False\n",
    "            \n",
    "    #interchange first row with the current row +1\n",
    "    if c < rows -1: # swapping is with next current row, c+1 not exceeds from Matrix rows index \n",
    "        A[[0, c+1]] = A[[c+1, 0]]\n",
    "\n",
    "\n",
    "print(\"Not in diagonal form \\n\", A, \"\\n\") # the matrix is not in the diagonal form\n",
    "\n",
    "for i in range(rows):\n",
    "    for j in range(cols-1): # not calculate x vector from the matrix\n",
    "        if A[i,j] > 0: # found the pivot\n",
    "            A[[i,j]] = A[[j,i]]\n",
    "print(\"Diagonal form \\n\",A)\n",
    "    \n",
    "    \n",
    "        "
   ]
  },
  {
   "cell_type": "code",
   "execution_count": null,
   "metadata": {},
   "outputs": [],
   "source": []
  }
 ],
 "metadata": {
  "kernelspec": {
   "display_name": "Python 3",
   "language": "python",
   "name": "python3"
  },
  "language_info": {
   "codemirror_mode": {
    "name": "ipython",
    "version": 3
   },
   "file_extension": ".py",
   "mimetype": "text/x-python",
   "name": "python",
   "nbconvert_exporter": "python",
   "pygments_lexer": "ipython3",
   "version": "3.7.3"
  }
 },
 "nbformat": 4,
 "nbformat_minor": 2
}
