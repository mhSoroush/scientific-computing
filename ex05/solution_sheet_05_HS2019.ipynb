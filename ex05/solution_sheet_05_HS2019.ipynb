{
 "cells": [
  {
   "cell_type": "markdown",
   "metadata": {},
   "source": [
    "# 05: Solution\n",
    "\n",
    "### Notebook accompanying  the [Scientific Computing Lecture HS 2019](https://dmi.unibas.ch/de/studium/computer-science-informatik/lehrangebot-hs19/main-lecture-scientific-computing/)\n",
    "#### Tutorial by [Sebastian Mathias Keller](http://bmda.cs.unibas.ch/)\n",
    "#### University of Basel [Institute for Mathematics and Computer Science](http://informatik.unibas.ch/)"
   ]
  },
  {
   "cell_type": "markdown",
   "metadata": {},
   "source": [
    "## 5.1 Geometric Approach"
   ]
  },
  {
   "cell_type": "code",
   "execution_count": 2,
   "metadata": {},
   "outputs": [
    {
     "name": "stdout",
     "output_type": "stream",
     "text": [
      "1     -2.0000   5.9489\n",
      "2     -1.7895   4.8710\n",
      "3     -1.5789   4.2316\n",
      "4     -1.3684   3.3974\n",
      "5     -1.1579   2.0662\n",
      "6     -0.9474   1.8298\n",
      "7     -0.7368   1.1973\n",
      "8     -0.5263   1.1172\n",
      "9     -0.3158   0.9621\n",
      "10    -0.1053   0.6710\n",
      "11     0.1053  -0.5260\n",
      "12     0.3158  -0.1774\n",
      "13     0.5263  -0.8564\n",
      "14     0.7368  -0.7507\n",
      "15     0.9474  -0.0533\n",
      "16     1.1579   0.9491\n",
      "17     1.3684   0.1193\n",
      "18     1.5789   1.0998\n",
      "19     1.7895   1.3000\n",
      "20     2.0000   2.5587\n",
      "Name: #     x        y, dtype: object\n",
      "-----------------d\n"
     ]
    },
    {
     "data": {
      "image/png": "[encoded data removed]",
      "text/plain": [
       "<matplotlib.figure.Figure at 0x7f38cb0b25f8>"
      ]
     },
     "metadata": {},
     "output_type": "display_data"
    }
   ],
   "source": [
    "%matplotlib inline\n",
    "\n",
    "# Least Squares -- Geometric Approach\n",
    "\n",
    "import matplotlib.pyplot as plt\n",
    "import numpy as np\n",
    "from numpy import random\n",
    "from numpy.linalg import *\n",
    "import pandas as pd\n",
    "\n",
    "\n",
    "\n",
    "\n",
    "df = pd.read_csv('data2.dat')\n",
    "x = df.iloc[1:,0]\n",
    "#y = df.iloc[1:,1]\n",
    "\n",
    "print(x)\n",
    "print(\"-----------------d\")\n",
    "\n",
    "filename = 'data.dat'\n",
    "infile = open(filename, 'r')\n",
    "line = infile.readline()\n",
    "x_data = []\n",
    "y_data = []\n",
    "for line in infile:\n",
    "    words = line.split()\n",
    "    x_data.append(float(words[0]))\n",
    "    y_data.append(float(words[1]))\n",
    "infile.close()\n",
    "\n",
    "# number of samples\n",
    "n = len(x_data)\n",
    "\n",
    "# convienient rename...\n",
    "x = x_data\n",
    "y = y_data\n",
    "\n",
    "\n",
    "\n",
    "# we generate m samples (x, y) from function y = 2 * x + noise\n",
    "#x = np.linspace(-2, 2, m)\n",
    "#noise_amp = 1\n",
    "#nn = noise_amp * random.randn(n)\n",
    "#y_data = y_data# + (0.5 * nn)\n",
    "\n",
    "\n",
    "\n",
    "# compute matrix A and vector c\n",
    "a11 = np.dot(x,x)\n",
    "a12 = np.dot(x,np.ones(n)) # identical to a21\n",
    "a22 = n\n",
    "A = np.matrix([[a11, a12], [a12, a22]])\n",
    "\n",
    "c1 = np.dot(x,y)\n",
    "c2 = np.dot(y,np.ones(n))\n",
    "c = np.matrix([[c1], [c2]])\n",
    "\n",
    "# solve  A * b = c  using any method you learned so far (Gauss-Jordan, LU, SVD, ...)\n",
    "U, S, Vt = np.linalg.svd(A, full_matrices=True)\n",
    "\n",
    "S_matrix = np.zeros((2,2))\n",
    "S_matrix[0,0] = 1/S[0]\n",
    "S_matrix[1,1] = 1/S[1]\n",
    "S_plus = S_matrix.T\n",
    "\n",
    "# pseudosolution based on constructed S_plus\n",
    "b = Vt.T.dot(S_plus).dot(U.T).dot(c)\n",
    "\n",
    "# plotting...\n",
    "fig = plt.figure()\n",
    "plt.title('Geometric approach with random points')\n",
    "\n",
    "# plot scatter\n",
    "plt.scatter(x,y, label='noisy smaples')\n",
    "# plot fit\n",
    "x = np.arange(-2,2.2,0.2)\n",
    "y = b[0,0]*x + b[1,0]\n",
    "plt.plot(x, y, '-', label='y_fit')\n",
    "# plot noisefree original\n",
    "y_orig = -2*x + 0\n",
    "plt.plot(x, y_orig, '-', label='y_original')\n",
    "\n",
    "plt.legend()\n",
    "\n",
    "plt.show()"
   ]
  }
 ],
 "metadata": {
  "kernelspec": {
   "display_name": "Python 3",
   "language": "python",
   "name": "python3"
  },
  "language_info": {
   "codemirror_mode": {
    "name": "ipython",
    "version": 3
   },
   "file_extension": ".py",
   "mimetype": "text/x-python",
   "name": "python",
   "nbconvert_exporter": "python",
   "pygments_lexer": "ipython3",
   "version": "3.6.9"
  }
 },
 "nbformat": 4,
 "nbformat_minor": 1
}
