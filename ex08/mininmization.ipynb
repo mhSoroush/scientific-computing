{
 "cells": [
  {
   "cell_type": "code",
   "execution_count": 13,
   "metadata": {},
   "outputs": [
    {
     "name": "stdout",
     "output_type": "stream",
     "text": [
      "minimization Problem:\n",
      "MINIMIZE\n",
      "3*A + 2*B + 0\n",
      "SUBJECT TO\n",
      "_C1: 2 A + B >= 6\n",
      "\n",
      "_C2: A + B >= 4\n",
      "\n",
      "VARIABLES\n",
      "A Continuous\n",
      "B Continuous\n",
      "\n",
      "Optimal\n",
      "A: 2.0 B: 2.0 optimal value: 10.0\n"
     ]
    }
   ],
   "source": [
    "\n",
    "# import the library pulp as p \n",
    "import pulp as p \n",
    "  \n",
    "# Create a LP Minimization problem \n",
    "Lp_prob = p.LpProblem('minimization Problem', p.LpMinimize)  \n",
    "  \n",
    "# Create problem Variables  \n",
    "A = p.LpVariable(\"A\", lowBound = 0)   # Create a variable x >= 0 \n",
    "B = p.LpVariable(\"B\", lowBound = 0)   # Create a variable y >= 0 \n",
    "  \n",
    "# Objective Function \n",
    "Lp_prob += 3 * A + 2 * B    \n",
    "  \n",
    "# Constraints: \n",
    "Lp_prob += 2 * A + 1 * B >= 6\n",
    "Lp_prob += 1 * A + 1 * B >= 4\n",
    "  \n",
    "# Display the problem \n",
    "print(Lp_prob) \n",
    "  \n",
    "status = Lp_prob.solve()   # Solver \n",
    "print(p.LpStatus[status])   # The solution status \n",
    "  \n",
    "# Printing the final solution \n",
    "print('A:', p.value(A), 'B:', p.value(B), 'optimal value:', p.value(Lp_prob.objective))"
   ]
  },
  {
   "cell_type": "code",
   "execution_count": null,
   "metadata": {},
   "outputs": [],
   "source": []
  }
 ],
 "metadata": {
  "kernelspec": {
   "display_name": "Python 3",
   "language": "python",
   "name": "python3"
  },
  "language_info": {
   "codemirror_mode": {
    "name": "ipython",
    "version": 3
   },
   "file_extension": ".py",
   "mimetype": "text/x-python",
   "name": "python",
   "nbconvert_exporter": "python",
   "pygments_lexer": "ipython3",
   "version": "3.7.4"
  }
 },
 "nbformat": 4,
 "nbformat_minor": 2
}
