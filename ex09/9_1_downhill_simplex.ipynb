{
 "cells": [
  {
   "cell_type": "code",
   "execution_count": 23,
   "metadata": {},
   "outputs": [
    {
     "name": "stdout",
     "output_type": "stream",
     "text": [
      "x: [1.]     f(x): [28.92034057]\n",
      "x: [1.05]     f(x): [28.50221727]\n",
      "x: [1.1]     f(x): [27.91046518]\n",
      "x: [1.15]     f(x): [27.1539502]\n",
      "x: [1.25]     f(x): [25.25577064]\n",
      "x: [1.35]     f(x): [23.13541169]\n",
      "x: [1.55]     f(x): [19.81804935]\n",
      "x: [1.75]     f(x): [19.11142614]\n",
      "x: [2.15]     f(x): [18.71222008]\n",
      "x: [2.55]     f(x): [12.06663844]\n",
      "x: [3.35]     f(x): [9.65230182]\n",
      "x: [4.15]     f(x): [7.3685756]\n",
      "x: [5.75]     f(x): [0.06580755]\n",
      "x: [7.35]     f(x): [5.80866203]\n",
      "x: [7.35]     f(x): [5.80866203]\n",
      "x: [6.55]     f(x): [2.24232542]\n",
      "x: [4.95]     f(x): [2.81325746]\n",
      "x: [6.15]     f(x): [3.41718712]\n",
      "x: [6.15]     f(x): [3.41718712]\n",
      "x: [5.35]     f(x): [3.97250982]\n",
      "x: [5.95]     f(x): [1.17182185]\n",
      "x: [5.55]     f(x): [1.58614416]\n",
      "x: [5.85]     f(x): [0.30963886]\n",
      "x: [5.65]     f(x): [0.53947835]\n",
      "x: [5.8]     f(x): [0.09850942]\n",
      "x: [5.7]     f(x): [0.21646426]\n",
      "x: [5.775]     f(x): [0.05917161]\n",
      "x: [5.8]     f(x): [0.09850942]\n",
      "x: [5.7625]     f(x): [0.05671182]\n",
      "x: [5.75]     f(x): [0.06580755]\n",
      "x: [5.76875]     f(x): [0.05649869]\n",
      "x: [5.775]     f(x): [0.05917161]\n",
      "x: [5.765625]     f(x): [0.05624417]\n",
      "x: [5.7625]     f(x): [0.05671182]\n",
      "x: [5.7671875]     f(x): [0.05628119]\n",
      "x: [5.7640625]     f(x): [0.0563877]\n",
      "x: [5.76640625]     f(x): [0.05624011]\n",
      "x: [5.7671875]     f(x): [0.05628119]\n",
      "x: [5.76601563]     f(x): [0.0562365]\n",
      "x: [5.765625]     f(x): [0.05624417]\n",
      "x: [5.76621094]     f(x): [0.0562369]\n",
      "x: [5.76582031]     f(x): [0.05623892]\n",
      "x: [5.76611328]     f(x): [0.05623635]\n",
      "Optimization terminated successfully.\n",
      "         Current function value: 0.056236\n",
      "         Iterations: 21\n",
      "         Function evaluations: 43\n"
     ]
    },
    {
     "data": {
      "text/plain": [
       "<function matplotlib.pyplot.show(*args, **kw)>"
      ]
     },
     "execution_count": 23,
     "metadata": {},
     "output_type": "execute_result"
    },
    {
     "data": {
      "image/png": "[encoded data removed]",
      "text/plain": [
       "<Figure size 432x288 with 1 Axes>"
      ]
     },
     "metadata": {
      "needs_background": "light"
     },
     "output_type": "display_data"
    }
   ],
   "source": [
    "import math\n",
    "from scipy.optimize import fmin\n",
    "import matplotlib.pyplot as plt\n",
    "\n",
    "\n",
    "def func(x):\n",
    "    result = 2 * math.cos(6 * x)+(x - 6)**2 +2\n",
    "    plt.scatter(x, result, marker='x', c='g')\n",
    "    print(\"x:\", x, \"   \", \"f(x):\", result)\n",
    "    return result;\n",
    "\n",
    "#Initail value is 1\n",
    "start = 1\n",
    "\n",
    "#Optimization method to take the minimum of the function \n",
    "fmin(func, [start])\n",
    "plt.show"
   ]
  },
  {
   "cell_type": "code",
   "execution_count": null,
   "metadata": {},
   "outputs": [],
   "source": [
    "#Note: the minimum value is \"Current function value: 0.056236\" \n",
    "#as you see the value of x is not in sorted order, that means it replaced the worst with best value\n",
    "#for each iteration"
   ]
  }
 ],
 "metadata": {
  "kernelspec": {
   "display_name": "Python 3",
   "language": "python",
   "name": "python3"
  },
  "language_info": {
   "codemirror_mode": {
    "name": "ipython",
    "version": 3
   },
   "file_extension": ".py",
   "mimetype": "text/x-python",
   "name": "python",
   "nbconvert_exporter": "python",
   "pygments_lexer": "ipython3",
   "version": "3.7.4"
  }
 },
 "nbformat": 4,
 "nbformat_minor": 2
}
