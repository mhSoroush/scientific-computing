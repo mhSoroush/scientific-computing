{
 "cells": [
  {
   "cell_type": "code",
   "execution_count": 1,
   "metadata": {},
   "outputs": [],
   "source": [
    "import numpy as np;\n",
    "import math;\n",
    "\n",
    "A = np.zeros([20,3]);\n",
    "b = np.zeros([20,1]);\n",
    "\n",
    "counter = 0; #Counter to avoid reading header\n",
    "A_counter = 0; #Counter to entry x values in Matrix\n",
    "\n",
    "with open(\"data2.dat\", \"r\") as file:\n",
    "    for line in file:\n",
    "        if(counter > 1):\n",
    "            data_points = line.strip().split(\" \");\n",
    "            x = float(data_points[0]);\n",
    "            y = float(data_points[-1]);\n",
    "            \n",
    "            #Assign value of y = xˆ2 - x in Matrix\n",
    "            A[A_counter, 0] = math.pow(x, 2);\n",
    "            A[A_counter, 1] = x;\n",
    "            A[A_counter, 2] = 1;\n",
    "            \n",
    "            #Assign y values in b Matrix\n",
    "            b[A_counter, 0] = y;\n",
    "            \n",
    "            #Add one to the A_counter\n",
    "            A_counter = A_counter + 1;\n",
    "            \n",
    "        counter = counter +1;\n",
    "file.close();\n"
   ]
  },
  {
   "cell_type": "markdown",
   "metadata": {},
   "source": [
    "### Find the the Unknown with SVD"
   ]
  },
  {
   "cell_type": "code",
   "execution_count": 3,
   "metadata": {},
   "outputs": [
    {
     "name": "stdout",
     "output_type": "stream",
     "text": [
      "x_svd: \n",
      " [[ 1.03096967]\n",
      " [-0.97167661]\n",
      " [-0.02153287]]\n"
     ]
    }
   ],
   "source": [
    "import numpy as np\n",
    "import numpy.linalg as la\n",
    "import scipy.linalg as spla\n",
    "import math\n",
    "\n",
    "max_R_C = 0\n",
    "rows, cols = A.shape\n",
    "if rows <= cols:\n",
    "    max_R_C = rows;\n",
    "else:\n",
    "    max_R_C = cols;\n",
    "    \n",
    "U, sigma, VT = la.svd(A)\n",
    "\n",
    "Sigma = np.zeros(A.shape)\n",
    "Sigma[:max_R_C,:max_R_C] = np.diag(sigma)\n",
    "\n",
    "Sigma_pinv = np.zeros(A.shape).T\n",
    "Sigma_pinv[:max_R_C,:max_R_C] = np.diag(1/sigma[:max_R_C])\n",
    "Sigma_pinv.round(max_R_C)\n",
    "\n",
    "x_svd = VT.T.dot(Sigma_pinv).dot(U.T).dot(b)\n",
    "\n",
    "print(\"x_svd: \\n\", x_svd);"
   ]
  },
  {
   "cell_type": "markdown",
   "metadata": {},
   "source": [
    "### plotting the data points\n"
   ]
  },
  {
   "cell_type": "code",
   "execution_count": 5,
   "metadata": {},
   "outputs": [
    {
     "data": {
      "image/png": "[encoded data removed]",
      "text/plain": [
       "<Figure size 432x288 with 1 Axes>"
      ]
     },
     "metadata": {
      "needs_background": "light"
     },
     "output_type": "display_data"
    }
   ],
   "source": [
    "import matplotlib.pyplot as plt;\n",
    "\n",
    "counter = 0; #Counter to avoid reading header\n",
    "A_counter = 0; #Counter to entry x values in Matrix\n",
    "\n",
    "with open(\"data2.dat\", \"r\") as file:\n",
    "    for line in file:\n",
    "        if(counter > 1):\n",
    "            data_points = line.strip().split(\" \");\n",
    "            x = float(data_points[0]);\n",
    "            y = float(data_points[-1]);\n",
    "            \n",
    "            #y = xˆ2 -x \n",
    "            plt.scatter(x,y);\n",
    "            \n",
    "            #Add one to the A_counter\n",
    "            A_counter = A_counter + 1;\n",
    "            \n",
    "        counter = counter +1;\n",
    "file.close();\n",
    "\n",
    "#I act as x points, it increase by 0.05 to be showed as curve line\n",
    "i = -2;\n",
    "while(i <= 2):\n",
    "    #y = c2xˆ2 + c1x + c0\n",
    "    #Plug in the values of c1, c2, c3\n",
    "    y = (1.03096967* math.pow(i,2)) + (-0.97167661 * i) - 0.02153287;\n",
    "    \n",
    "    plt.scatter(i, y, color= \"black\");\n",
    "    i += 0.05;\n",
    "\n",
    "plt.show();"
   ]
  },
  {
   "cell_type": "markdown",
   "metadata": {},
   "source": [
    "### Calculate the residual"
   ]
  },
  {
   "cell_type": "code",
   "execution_count": 6,
   "metadata": {},
   "outputs": [
    {
     "name": "stdout",
     "output_type": "stream",
     "text": [
      "Sum of residual: \n",
      " 2.858904508696579\n"
     ]
    }
   ],
   "source": [
    "counter = 0;\n",
    "residual = 0;\n",
    "with open(\"data2.dat\", \"r\") as file:\n",
    "    for line in file:\n",
    "        if(counter > 1):\n",
    "            data_points = line.strip().split(\" \");\n",
    "            \n",
    "            #Acutal values\n",
    "            x = float(data_points[0]);\n",
    "            y = float(data_points[-1]);\n",
    "            \n",
    "            #predicted values(regression line), Model = c1xˆ2 + c2x + c3\n",
    "            predicted_y = (1.03096967* math.pow(x,2)) + (-0.97167661 * x) + (- 0.02153287);\n",
    "            \n",
    "            #Calculate the residual rˆ2 = Sum(yi - f(xi))ˆ2\n",
    "            r = y - predicted_y;\n",
    "            residual += math.pow(r,2);\n",
    "            \n",
    "        counter = counter +1;\n",
    "file.close();\n",
    "\n",
    "print(\"Sum of residual: \\n\", residual)"
   ]
  },
  {
   "cell_type": "markdown",
   "metadata": {},
   "source": [
    "### Zero the smallest singular value and re-compute condition number and the coefficients."
   ]
  },
  {
   "cell_type": "code",
   "execution_count": 61,
   "metadata": {},
   "outputs": [
    {
     "name": "stdout",
     "output_type": "stream",
     "text": [
      "[[ 0.86909425]\n",
      " [-0.97167661]\n",
      " [ 0.36446805]]\n"
     ]
    }
   ],
   "source": [
    "import numpy as np\n",
    "import numpy.linalg as la\n",
    "import scipy.linalg as spla\n",
    "import math\n",
    "\n",
    "max_R_C = 0\n",
    "rows, cols = A.shape\n",
    "if rows <= cols:\n",
    "    max_R_C = rows;\n",
    "else:\n",
    "    max_R_C = cols;\n",
    "    \n",
    "U, sigma, VT = la.svd(A)\n",
    "\n",
    "#zero the smallest singular value, the smallest value is in index 2\n",
    "sigma[2] = 0;\n",
    "\n",
    "\n",
    "Sigma = np.zeros(A.shape)\n",
    "Sigma[:max_R_C,:max_R_C] = np.diag(sigma)\n",
    "\n",
    "#In oreder to avoid deviding by zero, max_R_C = max_R_C - 1\n",
    "Sigma_pinv = np.zeros(A.shape).T\n",
    "Sigma_pinv[:max_R_C-1,:max_R_C-1] = np.diag(1/sigma[:max_R_C-1])\n",
    "Sigma_pinv.round(max_R_C-1)\n",
    "\n",
    "x_svd = VT.T.dot(Sigma_pinv).dot(U.T).dot(b)\n",
    "\n",
    "print(x_svd);"
   ]
  },
  {
   "cell_type": "markdown",
   "metadata": {},
   "source": [
    "### Calculate the new residual."
   ]
  },
  {
   "cell_type": "code",
   "execution_count": 8,
   "metadata": {},
   "outputs": [
    {
     "name": "stdout",
     "output_type": "stream",
     "text": [
      "Sum of new residual: \n",
      " 4.197408188042315\n"
     ]
    }
   ],
   "source": [
    "counter = 0;\n",
    "residual = 0;\n",
    "with open(\"data2.dat\", \"r\") as file:\n",
    "    for line in file:\n",
    "        if(counter > 1):\n",
    "            data_points = line.strip().split(\" \");\n",
    "            \n",
    "            #Acutal values\n",
    "            x = float(data_points[0]);\n",
    "            y = float(data_points[-1]);\n",
    "            \n",
    "            #predicted values(regression line), Model = c1xˆ2 + c2x + c3\n",
    "            predicted_y = (0.86909425* math.pow(x,2)) + (-0.97167661 * x) + 0.36446805;\n",
    "            \n",
    "            #Calculate the residual rˆ2 = Sum(yi - f(xi))ˆ2\n",
    "            r = y - predicted_y;\n",
    "            residual += math.pow(r,2);\n",
    "            \n",
    "        counter = counter +1;\n",
    "file.close();\n",
    "\n",
    "print(\"Sum of new residual: \\n\", residual)"
   ]
  },
  {
   "cell_type": "code",
   "execution_count": 7,
   "metadata": {},
   "outputs": [
    {
     "data": {
      "image/png": "[encoded data removed]",
      "text/plain": [
       "<Figure size 432x288 with 1 Axes>"
      ]
     },
     "metadata": {
      "needs_background": "light"
     },
     "output_type": "display_data"
    }
   ],
   "source": [
    "import matplotlib.pyplot as plt;\n",
    "\n",
    "counter = 0; #Counter to avoid reading header\n",
    "A_counter = 0; #Counter to entry x values in Matrix\n",
    "\n",
    "with open(\"data2.dat\", \"r\") as file:\n",
    "    for line in file:\n",
    "        if(counter > 1):\n",
    "            data_points = line.strip().split(\" \");\n",
    "            x = float(data_points[0]);\n",
    "            y = float(data_points[-1]);\n",
    "            \n",
    "            #y = xˆ2 -x \n",
    "            plt.scatter(x,y);\n",
    "            \n",
    "            #Add one to the A_counter\n",
    "            A_counter = A_counter + 1;\n",
    "            \n",
    "        counter = counter +1;\n",
    "file.close();\n",
    "\n",
    "#I act as x points, it increase by 0.05 to be showed as curve line\n",
    "i = -2;\n",
    "while(i <= 2):\n",
    "    #y = c2xˆ2 + c1x + c0\n",
    "    #Plug in the values of c1, c2, c3\n",
    "    y = (0.86909425* math.pow(i,2)) + (-0.97167661 * i) + 0.36446805;\n",
    "    \n",
    "    plt.scatter(i, y, color= \"black\");\n",
    "    i += 0.05;\n",
    "\n",
    "plt.show();"
   ]
  },
  {
   "cell_type": "code",
   "execution_count": null,
   "metadata": {},
   "outputs": [],
   "source": [
    "#Note: In this example setting the smallest singular value to zeto has no advantage, even it has disadvantage\n",
    "#beause the residual increased, the regression line doesn't fit well.  "
   ]
  }
 ],
 "metadata": {
  "kernelspec": {
   "display_name": "Python 3",
   "language": "python",
   "name": "python3"
  },
  "language_info": {
   "codemirror_mode": {
    "name": "ipython",
    "version": 3
   },
   "file_extension": ".py",
   "mimetype": "text/x-python",
   "name": "python",
   "nbconvert_exporter": "python",
   "pygments_lexer": "ipython3",
   "version": "3.7.4"
  }
 },
 "nbformat": 4,
 "nbformat_minor": 2
}
