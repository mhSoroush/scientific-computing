{
 "cells": [
  {
   "cell_type": "code",
   "execution_count": 1,
   "metadata": {},
   "outputs": [
    {
     "name": "stdout",
     "output_type": "stream",
     "text": [
      "Geometric approach: Ax = c \n",
      "\n",
      "A: \n",
      " [[29.4734737  0.       ]\n",
      " [ 0.        20.       ]] \n",
      "\n",
      "c: \n",
      " [[-55.57383774]\n",
      " [  6.6459    ]] \n",
      "\n",
      "x: \n",
      " [[-1.88555439]\n",
      " [ 0.332295  ]]\n"
     ]
    }
   ],
   "source": [
    "import numpy as np;\n",
    "import math\n",
    "\n",
    "#quantity of data points\n",
    "m = 20;\n",
    "#Set zero matrix\n",
    "A = np.zeros([2,2]);\n",
    "#Set zero Vector\n",
    "c = np.zeros([2,1]);\n",
    "\n",
    "with open(\"data.dat\", \"r\") as file:\n",
    "    #Counter to avoid reading header\n",
    "    counter  = 0;\n",
    "    \n",
    "    #Getmetric formula\n",
    "    x_square_sum = 0;\n",
    "    x_sum = 0;\n",
    "    x_times_y_sum = 0;\n",
    "    y_sum = 0;\n",
    "    \n",
    "    for line in file:\n",
    "        if(counter > 0):\n",
    "            coordinates = line.strip().split(\" \");\n",
    "            x = float(coordinates[0]);\n",
    "            y = float(coordinates[-1]);\n",
    "            \n",
    "            #Sum the square of x\n",
    "            x_square_sum += math.pow(x, 2);\n",
    "            \n",
    "            #Sum the x\n",
    "            x_sum += x;\n",
    "            \n",
    "            #Sum the multiplication of x and y\n",
    "            x_times_y_sum += x * y;\n",
    "            \n",
    "            #Sum the y\n",
    "            y_sum += y;\n",
    "            \n",
    "        counter = counter + 1;\n",
    "    #Plug in the values in matrix A\n",
    "    A[0,0] = x_square_sum;\n",
    "    A[0,1] = x_sum;\n",
    "    A[1,0] = x_sum;\n",
    "    A[1,1] = m;\n",
    "    \n",
    "    #Plug in the values in vector c\n",
    "    c[0,0] = x_times_y_sum;\n",
    "    c[1,0] = y_sum;\n",
    "    \n",
    "file.close();\n",
    "\n",
    "print(\"Geometric approach: Ax = c\", \"\\n\");\n",
    "print(\"A: \\n\", A, \"\\n\")\n",
    "print(\"c: \\n\", c, \"\\n\")\n",
    "\n",
    "A_inv = np.linalg.inv(A);\n",
    "x = A_inv.dot(c)\n",
    "\n",
    "print(\"x: \\n\", x)\n"
   ]
  },
  {
   "cell_type": "code",
   "execution_count": 3,
   "metadata": {},
   "outputs": [
    {
     "data": {
      "image/png": "[encoded data removed]",
      "text/plain": [
       "<Figure size 432x288 with 1 Axes>"
      ]
     },
     "metadata": {
      "needs_background": "light"
     },
     "output_type": "display_data"
    }
   ],
   "source": [
    "###Plotting the data points\n",
    "import numpy as np\n",
    "import matplotlib.pyplot as plt;\n",
    "\n",
    "counter = 0;\n",
    "\n",
    "with open(\"data.dat\", \"r\") as file:\n",
    "    for line in file:\n",
    "        if(counter > 0):\n",
    "            coordinates = line.strip().split(\" \");\n",
    "            #there are many spaces between x and y, so the first index is x and the last is y\n",
    "            x = float(coordinates[0]);\n",
    "            y = float(coordinates[-1]);\n",
    "            \n",
    "            #Plot the data points\n",
    "            plt.scatter(x, y) \n",
    "        counter = counter + 1;\n",
    "file.close();\n",
    "\n",
    "#Start point(-2,4.1034), end point(2,-3.4388) \n",
    "# y = -2x , the start x and the last x points taken from data.dat file\n",
    "x1, y1 = [-2, 2], [4.1034, -3.4388]\n",
    "plt.plot(x1, y1, color = 'green')\n",
    " \n",
    "plt.title(\"y = c0 + c1x, y = 0.332295 + (-1.88555439x)\");\n",
    "plt.xlabel(\"x points\");\n",
    "plt.ylabel(\"y points\");\n",
    "plt.show();"
   ]
  },
  {
   "cell_type": "code",
   "execution_count": null,
   "metadata": {},
   "outputs": [],
   "source": []
  }
 ],
 "metadata": {
  "kernelspec": {
   "display_name": "Python 3",
   "language": "python",
   "name": "python3"
  },
  "language_info": {
   "codemirror_mode": {
    "name": "ipython",
    "version": 3
   },
   "file_extension": ".py",
   "mimetype": "text/x-python",
   "name": "python",
   "nbconvert_exporter": "python",
   "pygments_lexer": "ipython3",
   "version": "3.7.4"
  }
 },
 "nbformat": 4,
 "nbformat_minor": 2
}
